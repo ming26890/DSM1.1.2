{
 "cells": [
  {
   "cell_type": "code",
   "execution_count": 4,
   "metadata": {},
   "outputs": [
    {
     "name": "stdout",
     "output_type": "stream",
     "text": [
      "[*********************100%%**********************]  1 of 1 completed\n",
      "[*********************100%%**********************]  1 of 1 completed\n",
      "[*********************100%%**********************]  1 of 1 completed\n",
      "[*********************100%%**********************]  1 of 1 completed\n",
      "[*********************100%%**********************]  1 of 1 completed\n",
      "[*********************100%%**********************]  1 of 1 completed\n",
      "[*********************100%%**********************]  1 of 1 completed\n",
      "[*********************100%%**********************]  1 of 1 completed\n",
      "[*********************100%%**********************]  1 of 1 completed\n",
      "[*********************100%%**********************]  1 of 1 completed\n",
      "[*********************100%%**********************]  1 of 1 completed\n",
      "[*********************100%%**********************]  1 of 1 completed\n",
      "[*********************100%%**********************]  1 of 1 completed\n",
      "[*********************100%%**********************]  1 of 1 completed\n",
      "[*********************100%%**********************]  1 of 1 completed\n",
      "[*********************100%%**********************]  1 of 1 completed\n",
      "[*********************100%%**********************]  1 of 1 completed\n",
      "[*********************100%%**********************]  1 of 1 completed\n",
      "[*********************100%%**********************]  1 of 1 completed\n",
      "[*********************100%%**********************]  1 of 1 completed\n",
      "[*********************100%%**********************]  1 of 1 completed\n",
      "[*********************100%%**********************]  1 of 1 completed\n",
      "[*********************100%%**********************]  1 of 1 completed\n",
      "[*********************100%%**********************]  1 of 1 completed\n",
      "[*********************100%%**********************]  1 of 1 completed\n",
      "[*********************100%%**********************]  1 of 1 completed\n",
      "[*********************100%%**********************]  1 of 1 completed\n",
      "[*********************100%%**********************]  1 of 1 completed\n",
      "[*********************100%%**********************]  1 of 1 completed\n",
      "[*********************100%%**********************]  1 of 1 completed\n",
      "[*********************100%%**********************]  1 of 1 completed\n",
      "[*********************100%%**********************]  1 of 1 completed\n",
      "[*********************100%%**********************]  1 of 1 completed\n",
      "[*********************100%%**********************]  1 of 1 completed\n",
      "[*********************100%%**********************]  1 of 1 completed\n",
      "[*********************100%%**********************]  1 of 1 completed\n",
      "[*********************100%%**********************]  1 of 1 completed\n",
      "[*********************100%%**********************]  1 of 1 completed\n",
      "[*********************100%%**********************]  1 of 1 completed\n",
      "[*********************100%%**********************]  1 of 1 completed\n",
      "[*********************100%%**********************]  1 of 1 completed"
     ]
    },
    {
     "name": "stderr",
     "output_type": "stream",
     "text": [
      "\n",
      "1 Failed download:\n",
      "['SCB.BK']: Exception(\"%ticker%: Data doesn't exist for startDate = 1612026000, endDate = 1643562000\")\n"
     ]
    },
    {
     "name": "stdout",
     "output_type": "stream",
     "text": [
      "\n",
      "ไม่มีข้อมูลสำหรับหุ้น: SCB\n",
      "[*********************100%%**********************]  1 of 1 completed\n",
      "[*********************100%%**********************]  1 of 1 completed\n",
      "[*********************100%%**********************]  1 of 1 completed\n",
      "[*********************100%%**********************]  1 of 1 completed"
     ]
    },
    {
     "name": "stderr",
     "output_type": "stream",
     "text": [
      "\n",
      "1 Failed download:\n",
      "['TLI.BK']: Exception(\"%ticker%: Data doesn't exist for startDate = 1612026000, endDate = 1643562000\")\n"
     ]
    },
    {
     "name": "stdout",
     "output_type": "stream",
     "text": [
      "\n",
      "ไม่มีข้อมูลสำหรับหุ้น: TLI\n",
      "[*********************100%%**********************]  1 of 1 completed\n",
      "[*********************100%%**********************]  1 of 1 completed\n",
      "[*********************100%%**********************]  1 of 1 completed\n",
      "[*********************100%%**********************]  1 of 1 completed\n",
      "[*********************100%%**********************]  1 of 1 completed\n"
     ]
    }
   ],
   "source": [
    "import yfinance as yf\n",
    "import pandas as pd\n",
    "from datetime import datetime, timedelta\n",
    "\n",
    "# ตั้งค่าช่วงเวลาข้อมูล: 1 ปีที่ผ่านมาจนถึงปัจจุบัน\n",
    "end_date = datetime.strptime('2022-01-31', '%Y-%m-%d')\n",
    "start_date = end_date - timedelta(days=365)\n",
    "\n",
    "# อ่านรายชื่อหุ้นจากไฟล์ Excel\n",
    "stock_names_df = pd.read_excel(r'C:\\Users\\ming\\Desktop\\MyJob\\dsm\\stockname_set50.xlsx')\n",
    "stock_list = stock_names_df['หลักทรัพย์'].astype(str).tolist()  # แปลงเป็น string\n",
    "\n",
    "# โหลดข้อมูลหุ้นจาก yfinance และบันทึกเป็นแต่ละ worksheet ในไฟล์ Excel\n",
    "with pd.ExcelWriter(r'C:\\Users\\ming\\Desktop\\MyJob\\DSM1.1.2\\history/stock_data.xlsx') as writer:\n",
    "    for stock in stock_list:\n",
    "        # เติม '.BK' ไปท้ายชื่อหุ้นสำหรับหุ้นไทย\n",
    "        stock_data = yf.download(str(stock) + '.BK', start=start_date, end=end_date)\n",
    "        \n",
    "        # ตรวจสอบว่ามีข้อมูลหุ้นหรือไม่\n",
    "        if stock_data.empty:\n",
    "            print(f'ไม่มีข้อมูลสำหรับหุ้น: {stock}')\n",
    "        else:\n",
    "            # บันทึกใน worksheet ที่มีชื่อตามชื่อหุ้น\n",
    "            stock_data.to_excel(writer, sheet_name=stock)\n",
    "\n",
    "# บันทึกไฟล์ Excel\n"
   ]
  }
 ],
 "metadata": {
  "kernelspec": {
   "display_name": "ming_env",
   "language": "python",
   "name": "python3"
  },
  "language_info": {
   "codemirror_mode": {
    "name": "ipython",
    "version": 3
   },
   "file_extension": ".py",
   "mimetype": "text/x-python",
   "name": "python",
   "nbconvert_exporter": "python",
   "pygments_lexer": "ipython3",
   "version": "3.9.18"
  }
 },
 "nbformat": 4,
 "nbformat_minor": 2
}
